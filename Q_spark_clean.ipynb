{
 "cells": [
  {
   "cell_type": "markdown",
   "metadata": {
    "collapsed": true
   },
   "source": [
    "# Q1 (bad_xml)"
   ]
  },
  {
   "cell_type": "code",
   "execution_count": 188,
   "metadata": {
    "collapsed": true
   },
   "outputs": [],
   "source": [
    "import gzip, sys, os, re\n",
    "from pyspark import SparkContext\n",
    "\n",
    "import xml.etree.ElementTree as ET\n",
    "\n",
    "def localpath(path):\n",
    "    return str(os.path.abspath(os.path.curdir)) + path\n",
    "\n",
    "def startsWithRow(line):\n",
    "    return len( re.compile(u'^<row ').findall(line.strip()) ) > 0\n",
    "\n",
    "def startssEndsProperly(line):\n",
    "    return len( re.compile(u'(^<row(.*?)\\/>)').findall(line.strip()) ) > 0\n",
    "\n",
    "def startssEndsProperly_Throw_Trash(line):\n",
    "    return re.compile(u'(^<row(.*?)\\/>)').findall(line.strip())[0][0]\n",
    "\n",
    "def applyParser(line):\n",
    "    try:\n",
    "        root = ET.fromstring(re.compile(u'(^<row(.*?)\\/>)').findall(line.strip())[0][0].encode('utf-8').strip())\n",
    "        \n",
    "        return root\n",
    "    except:\n",
    "        return None"
   ]
  },
  {
   "cell_type": "code",
   "execution_count": 3,
   "metadata": {
    "collapsed": true
   },
   "outputs": [],
   "source": [
    "sc = SparkContext(\"local[*]\", \"temp\")"
   ]
  },
  {
   "cell_type": "code",
   "execution_count": 5,
   "metadata": {},
   "outputs": [
    {
     "name": "stdout",
     "output_type": "stream",
     "text": [
      "lines with posts: 109522\n",
      "readable lines: 108741\n",
      "unreadable posts: 781\n"
     ]
    }
   ],
   "source": [
    "my_input_dir = r'\\spark-stats-data\\allPosts\\part-0*'\n",
    "\n",
    "lines_1 = sc.textFile(localpath(my_input_dir)).map(startsWithRow).filter(lambda x: x is True).count()\n",
    "lines_2 = sc.textFile(localpath(my_input_dir)).map(applyParser).filter(lambda x: x is not None).count()\n",
    "lines_3 = lines_1-lines_2\n",
    "\n",
    "print \"lines with posts: %d\" % lines_1\n",
    "print \"readable lines: %d\" % lines_2\n",
    "print \"unreadable posts: %d\" % lines_3"
   ]
  },
  {
   "cell_type": "markdown",
   "metadata": {},
   "source": [
    "# Q2 (upvote_percentage)"
   ]
  },
  {
   "cell_type": "code",
   "execution_count": 55,
   "metadata": {
    "collapsed": true
   },
   "outputs": [],
   "source": [
    "class Vote_El(object): #I get a pickle error\n",
    "    def __init__(self, PostId, Up, Down, Fav):\n",
    "        self.PostId = PostId\n",
    "        self.Up = Up\n",
    "        self.Down = Down\n",
    "        self.Fav = Fav\n",
    "    \n",
    "def Parse_Vote(line):\n",
    "    \n",
    "    root = applyParser(line)\n",
    "    \n",
    "    if root is not None:\n",
    "        \n",
    "        try:\n",
    "            PostId = int(root.get('PostId'))\n",
    "            Up, Down, Fav = 0, 0, 0\n",
    "        \n",
    "            var = int(root.get('VoteTypeId'))\n",
    "            if var == 2: Up += 1\n",
    "            elif var == 3: Down += 1\n",
    "            elif var == 5: Fav += 1\n",
    "        \n",
    "            #return Vote_El(PostId, Up, Down, Fav)\n",
    "            return (PostId, Up, Down, Fav)\n",
    "        \n",
    "        except:\n",
    "            return None\n",
    "        \n",
    "    else:\n",
    "        return None"
   ]
  },
  {
   "cell_type": "code",
   "execution_count": 89,
   "metadata": {
    "collapsed": true
   },
   "outputs": [],
   "source": [
    "my_input_dir = r'spark-stats-data\\allVotes\\part-0*'\n",
    "\n",
    "top_50 = sc.textFile(my_input_dir).map(Parse_Vote).filter(lambda x: x is not None).map(lambda x: (x[0], (x[1], x[2], x[3])) )\\\n",
    "    .reduceByKey(lambda x,y: (x[0]+y[0], x[1]+y[1], x[2]+y[2]) ).map(lambda (key,val): (val[2], (val[0], val[1])) )\\\n",
    "    .reduceByKey(lambda x,y: (x[0]+y[0], x[1]+y[1]) ).map(lambda (key,val): (key, val[0]/float(val[0]+val[1])  ) )\\\n",
    "    .sortByKey(ascending=True).take(50)"
   ]
  },
  {
   "cell_type": "code",
   "execution_count": 105,
   "metadata": {},
   "outputs": [
    {
     "data": {
      "image/png": "[encoded data removed]",
      "text/plain": [
       "<matplotlib.figure.Figure at 0x9fb4518>"
      ]
     },
     "metadata": {},
     "output_type": "display_data"
    }
   ],
   "source": [
    "import numpy as np\n",
    "\n",
    "%matplotlib inline\n",
    "import matplotlib\n",
    "import matplotlib.pyplot as plt\n",
    "\n",
    "data = np.array([ [el[0], el[1]] for el in top_50 ])\n",
    "\n",
    "plt.figure(figsize=(4, 4))\n",
    "plt.scatter( data[:,0],  data[:,1], alpha=0.7)\n",
    "plt.show()"
   ]
  },
  {
   "cell_type": "markdown",
   "metadata": {},
   "source": [
    "# Q3  (answer_percentage)   "
   ]
  },
  {
   "cell_type": "code",
   "execution_count": 193,
   "metadata": {
    "collapsed": true
   },
   "outputs": [],
   "source": [
    "import numbers\n",
    "\n",
    "def Get_Ustr_Info(line):\n",
    "    \n",
    "    root = applyParser(line)\n",
    "    \n",
    "    if root is not None:\n",
    "        try:    \n",
    "            UsrId = int(root.get('Id'))\n",
    "            Reputation = int(root.get('Reputation'))\n",
    "            return (UsrId, Reputation)\n",
    "        \n",
    "        except:\n",
    "            return None\n",
    "        \n",
    "    else:\n",
    "        return None\n",
    "    \n",
    "def Get_Posts_Info(line):\n",
    "    \n",
    "    root = applyParser(line)\n",
    "    \n",
    "    if root is not None:\n",
    "        try:\n",
    "            \n",
    "            if 'OwnerUserId' in root.attrib:\n",
    "                UsrId = int(root.attrib['OwnerUserId'])\n",
    "            else:\n",
    "                UsrId = -2\n",
    "            \n",
    "            quest, answ = 0, 0\n",
    "            \n",
    "            var = int(root.get('PostTypeId')) \n",
    "            if var == 1: quest += 1\n",
    "            elif var == 2: answ += 1\n",
    "            \n",
    "            return (UsrId, (quest, answ))\n",
    "        except:\n",
    "            return None\n",
    "    else:\n",
    "        return None\n",
    "    \n",
    "def Filter(el):\n",
    "    try:\n",
    "        key, val = el\n",
    "        if isinstance(key, numbers.Number) and isinstance(val[1], numbers.Number) and isinstance(val[0][0], numbers.Number) and isinstance(val[0][1], numbers.Number):\n",
    "            return True\n",
    "        else:\n",
    "            False\n",
    "    except:\n",
    "        return False"
   ]
  },
  {
   "cell_type": "code",
   "execution_count": 194,
   "metadata": {
    "collapsed": true
   },
   "outputs": [],
   "source": [
    "my_input_Posts = r'spark-stats-data\\allPosts\\part-0*'\n",
    "my_input_Users = r'spark-stats-data\\allUsers\\part-0*'\n",
    "\n",
    "posts = sc.textFile(my_input_Posts).map(Get_Posts_Info).filter(lambda x: x is not None)\n",
    "users = sc.textFile(my_input_Users).map(Get_Ustr_Info).filter(lambda x: x is not None)"
   ]
  },
  {
   "cell_type": "code",
   "execution_count": 196,
   "metadata": {
    "collapsed": true
   },
   "outputs": [],
   "source": [
    "table = posts.join(users).filter(Filter).map(lambda (key,val): (key, (val[1], val[0][0], val[0][1])) )\\\n",
    "        .reduceByKey(lambda x,y: (x[0], x[1]+y[1], x[2]+y[2]) ).filter(lambda (key,val): val[1]+val[2]!=0 )\\\n",
    "        .map(lambda (key,val): (val[0], val[2]/float(val[1]+val[2])) ).sortByKey(ascending=False)\\\n",
    "        .take(99)"
   ]
  },
  {
   "cell_type": "code",
   "execution_count": 195,
   "metadata": {},
   "outputs": [
    {
     "data": {
      "text/plain": [
       "[(52060, 55304, 0.5151074848180023)]"
      ]
     },
     "execution_count": 195,
     "metadata": {},
     "output_type": "execute_result"
    }
   ],
   "source": [
    "avg_ = posts.map(lambda (k,v): (1, (v[0], v[1])) )\\\n",
    "        .reduceByKey(lambda x,y: (x[0]+y[0], x[1]+y[1]) )\\\n",
    "        .map(lambda (k,v): (v[0], v[1], v[1]/float(v[0]+v[1])) )\\\n",
    "        .collect()\n",
    "\n",
    "avg_"
   ]
  },
  {
   "cell_type": "markdown",
   "metadata": {},
   "source": [
    "# Q4 (post_counts)"
   ]
  },
  {
   "cell_type": "code",
   "execution_count": 209,
   "metadata": {
    "collapsed": true
   },
   "outputs": [],
   "source": [
    "from lxml import objectify, etree\n",
    "import re\n",
    "\n",
    "def parse_Posts_trf_3(line):    \n",
    "    try:\n",
    "        strings = re.search('^<row', line.encode('utf-8').strip())\n",
    "        if strings:\n",
    "            root = objectify.fromstring(line.encode('utf-8').strip())\n",
    "            \n",
    "            if 'OwnerUserId' in root.attrib:\n",
    "                OwnerUserId = int(root.attrib['OwnerUserId'])\n",
    "            else:\n",
    "                OwnerUserId = -2\n",
    "                \n",
    "            return (OwnerUserId, 1)\n",
    "        return None\n",
    "    except:\n",
    "        return None"
   ]
  },
  {
   "cell_type": "code",
   "execution_count": 211,
   "metadata": {
    "collapsed": true
   },
   "outputs": [],
   "source": [
    "my_input_dir = r'spark-stats-data/allPosts/part-0*'\n",
    "\n",
    "Own_Id_vs_QA = sc.textFile(localpath(my_input_dir))\\\n",
    ".map(parse_Posts_trf_3)\\\n",
    ".filter(lambda x: x is not None)\\\n",
    ".reduceByKey(lambda va, vb: va+vb)\n",
    "\n",
    "\n",
    "my_input_dir = r'spark-stats-data/allUsers/part-0*'\n",
    "\n",
    "Usr_Id_vs_Rep = sc.textFile(localpath(my_input_dir))\\\n",
    ".map(parse_User_Record_trf_1)\\\n",
    ".filter(lambda x: x is not None)\n",
    "\n",
    "\n",
    "Usr_Id_vs_Rep_vs_QA = Usr_Id_vs_Rep.join(Own_Id_vs_QA)\\\n",
    ".map(lambda (usr_id,(rep,qa)): (qa, (rep,1)) )\\\n",
    ".reduceByKey(lambda va, vb: (va[0]+vb[0], va[1]+vb[1]))\\\n",
    ".map(lambda (qa, (rep_sum, counts)):  (qa, float(rep_sum)/counts) )\\\n",
    ".sortBy(lambda (qa, avg_rep): qa, ascending=False)\\\n",
    ".collect()\n",
    "\n",
    "q4_res = Usr_Id_vs_Rep_vs_QA[:100]"
   ]
  },
  {
   "cell_type": "markdown",
   "metadata": {},
   "source": [
    "## Q5 (quick_answers)\n",
    "        Id\n",
    "        PostTypeId\n",
    "          - 1: Question\n",
    "          - 2: Answer\n",
    "       - ParentID (only present if PostTypeId is 2)\n",
    "       - AcceptedAnswerId (only present if PostTypeId is 1)\n",
    "       - CreationDate\n",
    "       \n",
    "questoins: (Q_id, acc_answer_id, creation_date)  \n",
    "answer:    (A_id, ParentID, creation_date  )"
   ]
  },
  {
   "cell_type": "code",
   "execution_count": 213,
   "metadata": {
    "collapsed": true
   },
   "outputs": [],
   "source": [
    "from lxml import objectify, etree\n",
    "import re\n",
    "from datetime import datetime, timedelta\n",
    "\n",
    "def parse_Posts_trf_2(line):    \n",
    "    try:\n",
    "        strings = re.search('^<row', line.encode('utf-8').strip())\n",
    "        if strings:\n",
    "            root = objectify.fromstring(line.encode('utf-8').strip())\n",
    "            \n",
    "            if 'Id' in root.attrib:\n",
    "                Id = int(root.attrib['Id'])\n",
    "            else:\n",
    "                Id = -2\n",
    "            \n",
    "            #or just return None if CreationDate is not given\n",
    "            if 'CreationDate' in root.attrib:\n",
    "                CreationDate = datetime.strptime(root.attrib['CreationDate'], '%Y-%m-%dT%H:%M:%S.%f').replace(microsecond=0)\n",
    "            else:\n",
    "                CreationDate = datetime.datetime(1970, 1, 1, 0, 0, 0)\n",
    "            \n",
    "            PostTypeId = int(root.attrib['PostTypeId'])\n",
    "            if PostTypeId == 2:\n",
    "                if 'ParentID' in root.attrib:\n",
    "                    ParentID         = int(root.attrib['ParentID'])\n",
    "                else:\n",
    "                    ParentID         = -2\n",
    "                return (Id, ParentID, CreationDate, 'A')\n",
    "                \n",
    "            if PostTypeId == 1:\n",
    "                if 'AcceptedAnswerId' in root.attrib:\n",
    "                    AcceptedAnswerId = int(root.attrib['AcceptedAnswerId'])\n",
    "                else:\n",
    "                    AcceptedAnswerId = -2\n",
    "                return (Id, AcceptedAnswerId, CreationDate, 'Q')\n",
    "\n",
    "            return None\n",
    "        else:\n",
    "            return None\n",
    "    except:\n",
    "        return None"
   ]
  },
  {
   "cell_type": "code",
   "execution_count": 214,
   "metadata": {
    "collapsed": true
   },
   "outputs": [],
   "source": [
    "my_input_dir = r'spark-stats-data/allPosts/part-0*'\n",
    "\n",
    "q_with_acc_answ = sc.textFile(localpath(my_input_dir))\\\n",
    ".map(parse_Posts_trf_2)\\\n",
    ".filter(lambda x: x is not None)\\\n",
    ".filter(lambda x: x[0]!=-2 and x[1]!=-2 and x[2]!=datetime(1970, 1, 1, 0, 0, 0) and x[3]=='Q')\n",
    "\n",
    "\n",
    "answ = sc.textFile(localpath(my_input_dir))\\\n",
    ".map(parse_Posts_trf_2)\\\n",
    ".filter(lambda x: x is not None)\\\n",
    ".filter(lambda x: x[0]!=-2 and              x[2]!=datetime(1970, 1, 1, 0, 0, 0) and x[3]=='A')\n",
    "\n",
    "\n",
    "acc_answ_in_my_set = q_with_acc_answ.map(lambda x: (x[1], x[2]) ).join( answ.map(lambda x: (x[0],x[2]) ) )\n",
    "\n",
    "quick_acc_answ_in_my_set = acc_answ_in_my_set.filter(lambda x: x[1][1]-x[1][0]<timedelta(0, 10800) )\n",
    "\n",
    "\n",
    "\n",
    "tot_acc_answ_by_q_hour = acc_answ_in_my_set.map(lambda x: (x[1][0].hour ,1) ).reduceByKey(lambda x, y: x+y).sortByKey().collect()\n",
    "\n",
    "tot_quick_acc_answ_by_hour = quick_acc_answ_in_my_set.map(lambda x: (x[1][0].hour ,1) ).reduceByKey(lambda x, y: x+y).sortByKey().collect()"
   ]
  },
  {
   "cell_type": "code",
   "execution_count": null,
   "metadata": {
    "collapsed": true
   },
   "outputs": [],
   "source": [
    "q5_res = []\n",
    "for el1, el2 in zip(tot_acc_answ_by_q_hour, tot_quick_acc_answ_by_hour):\n",
    "    q5_res.append(float(el2[1])/el1[1])"
   ]
  },
  {
   "cell_type": "markdown",
   "metadata": {},
   "source": [
    "# Q6 (quick_answers_full)"
   ]
  },
  {
   "cell_type": "code",
   "execution_count": 216,
   "metadata": {
    "collapsed": true
   },
   "outputs": [],
   "source": [
    "my_input_dir = r'spark-stack-data/allPosts/part-0*'\n",
    "\n",
    "q_with_acc_answ = sc.textFile(localpath(my_input_dir))\\\n",
    ".map(parse_Posts_trf_2)\\\n",
    ".filter(lambda x: x is not None)\\\n",
    ".filter(lambda x: x[0]!=-2 and x[1]!=-2 and x[2]!=datetime(1970, 1, 1, 0, 0, 0) and x[3]=='Q')\n",
    "\n",
    "\n",
    "answ = sc.textFile(localpath(my_input_dir))\\\n",
    ".map(parse_Posts_trf_2)\\\n",
    ".filter(lambda x: x is not None)\\\n",
    ".filter(lambda x: x[0]!=-2 and              x[2]!=datetime(1970, 1, 1, 0, 0, 0) and x[3]=='A')\n",
    "\n",
    "\n",
    "# id_acc_answ, cr_date_Q, cr_data_A\n",
    "acc_answ_in_my_set = q_with_acc_answ.map(lambda x: (x[1], x[2]) ).join( answ.map(lambda x: (x[0],x[2]) ) )\n",
    "\n",
    "# id_acc_answ, cr_date_Q, cr_data_A\n",
    "quick_acc_answ_in_my_set = acc_answ_in_my_set.filter(lambda x: x[1][1]-x[1][0]<timedelta(0, 10800) )\n",
    "\n",
    "\n",
    "\n",
    "tot_acc_answ_by_q_hour = acc_answ_in_my_set.map(lambda x: (x[1][0].hour ,1) ).reduceByKey(lambda x, y: x+y).sortByKey().collect()\n",
    "\n",
    "tot_quick_acc_answ_by_hour = quick_acc_answ_in_my_set.map(lambda x: (x[1][0].hour ,1) ).reduceByKey(lambda x, y: x+y).sortByKey().collect()"
   ]
  },
  {
   "cell_type": "code",
   "execution_count": 223,
   "metadata": {
    "collapsed": true
   },
   "outputs": [],
   "source": [
    "q6_res = []\n",
    "for el1, el2 in zip(tot_acc_answ_by_q_hour, tot_quick_acc_answ_by_hour):\n",
    "    q6_res.append(float(el2[1])/el1[1])"
   ]
  },
  {
   "cell_type": "markdown",
   "metadata": {},
   "source": [
    "# Q7 (identify_veterans)\n",
    "posts 100-150 days after account creation date -> (active vs inactive users)  \n",
    "get first question of veterans and users  \n",
    "for both groups: average the score, views, number of answers and number of favorites of the users' first question  \n"
   ]
  },
  {
   "cell_type": "code",
   "execution_count": 3,
   "metadata": {
    "collapsed": true
   },
   "outputs": [],
   "source": [
    "# PostTypeId: 1-Q, 2-A get something only if PostTypeId == 1\n",
    "from lxml import objectify, etree\n",
    "import re\n",
    "from datetime import datetime, timedelta\n",
    "\n",
    "\n",
    "def parse_User_Record_trf_2(line):\n",
    "    try:\n",
    "        strings = re.search(r'^<row', line.strip().encode('utf-8'))\n",
    "        if strings:\n",
    "            root = objectify.fromstring(line.strip().encode('utf-8'))\n",
    "        \n",
    "            if 'Id' in root.attrib: Id = int(root.attrib['Id'])\n",
    "            else: Id = -2\n",
    "    \n",
    "            if 'CreationDate' in root.attrib: CreationDate = datetime.strptime(root.attrib['CreationDate'], '%Y-%m-%dT%H:%M:%S.%f').replace(microsecond=0)\n",
    "            else: CreationDate = datetime.datetime(1970, 1, 1, 0, 0, 0)\n",
    "        \n",
    "            return (Id, CreationDate)\n",
    "        return None\n",
    "    except:\n",
    "        return None\n",
    "    \n",
    "def parse_Posts_trf_4(line):\n",
    "    try:\n",
    "        strings = re.search(r'^<row', line.strip().encode('utf-8'))\n",
    "        if strings:\n",
    "            root = objectify.fromstring(line.strip().encode('utf-8'))\n",
    "            \n",
    "            if 'OwnerUserId' in root.attrib: OwnerUserId = int(root.attrib['OwnerUserId'])\n",
    "            else: OwnerUserId = -2\n",
    "            \n",
    "            if 'PostTypeId' in root.attrib: PostTypeId = int(root.attrib['PostTypeId'])\n",
    "            else: PostTypeId = -2\n",
    "            \n",
    "            if 'CreationDate' in root.attrib: CreationDate = datetime.strptime(root.attrib['CreationDate'], '%Y-%m-%dT%H:%M:%S.%f').replace(microsecond=0)\n",
    "            else: CreationDate = datetime.datetime(1970, 1, 1, 0, 0, 0)\n",
    "            \n",
    "            if 'Score' in root.attrib: Score = int(root.attrib['Score'])\n",
    "            else: Score = 0 #-999999\n",
    "            \n",
    "            if 'ViewCount' in root.attrib: ViewCount = int(root.attrib['ViewCount'])\n",
    "            else: ViewCount = 0 #-2\n",
    "            \n",
    "            if 'AnswerCount' in root.attrib: AnswerCount = int(root.attrib['AnswerCount'])\n",
    "            else: AnswerCount = 0 #-2\n",
    "            \n",
    "            if 'FavoriteCount' in root.attrib: FavoriteCount = int(root.attrib['FavoriteCount'])\n",
    "            else: FavoriteCount = 0 #-2\n",
    "            \n",
    "            return (OwnerUserId, PostTypeId, CreationDate, Score, ViewCount, AnswerCount, FavoriteCount)\n",
    "            \n",
    "        return None\n",
    "    except:\n",
    "        return None"
   ]
  },
  {
   "cell_type": "code",
   "execution_count": 317,
   "metadata": {
    "collapsed": true
   },
   "outputs": [],
   "source": [
    "my_input_dir = r'spark-stats-data/allUsers/part-0*'\n",
    "Usr_Id_vs_Cr_date = sc.textFile(localpath(my_input_dir)).map(parse_User_Record_trf_2).filter(lambda x: x is not None and x[1]!=datetime(1970, 1, 1, 0, 0, 0))\n",
    "\n",
    "\n",
    "my_input_dir = r'spark-stats-data/allPosts/part-0*'\n",
    "all_posts = sc.textFile(localpath(my_input_dir)).map(parse_Posts_trf_4).filter(lambda x: x is not None and x[2]!=datetime(1970, 1, 1, 0, 0, 0))\n",
    "\n",
    "\n",
    "first_q_by_usr = sc.textFile(localpath(my_input_dir)).map(parse_Posts_trf_4)\\\n",
    ".filter(lambda x: x is not None and x[0]!=-2 and x[1]==1 and x[2]!=datetime(1970, 1, 1, 0, 0, 0) and x[3]!=-999999 and x[4]!=-2 and x[5]!=-2 and x[6]!=-2 )\\\n",
    ".map(lambda x: (x[0], (x[1],x[2],x[3],x[4],x[5],x[6]) ))\\\n",
    ".reduceByKey(lambda x, y: x if x[1]<y[1] else y )\n",
    "\n",
    "\n",
    "act_usr = Usr_Id_vs_Cr_date.join(  all_posts.map(lambda x: (x[0], x[2]))  )\\\n",
    ".map(lambda x: (x[0], 1) if timedelta(100, 0)<x[1][1]-x[1][0]<timedelta(150, 0) else (x[0], 0) )\\\n",
    ".reduceByKey(lambda x, y: x+y)\\\n",
    ".filter(lambda x: x[1]>0)\\\n",
    ".map(lambda x: (x[0],1) )\n",
    "\n",
    "\n",
    "inact_usr = Usr_Id_vs_Cr_date.join(  all_posts.map(lambda x: (x[0], x[2]))  )\\\n",
    ".map(lambda x: (x[0], 1) if timedelta(100, 0)<x[1][1]-x[1][0]<timedelta(150, 0) else (x[0], 0) )\\\n",
    ".reduceByKey(lambda x, y: x+y)\\\n",
    ".filter(lambda x: x[1]==0)\\\n",
    ".map(lambda x: (x[0],1) )\n",
    "\n",
    "\n",
    "act_usr_first_q_stats = act_usr.join(first_q_by_usr)\\\n",
    ".map(lambda x: (x[1][1][2],x[1][1][3],x[1][1][4],x[1][1][5],1))\\\n",
    ".reduce(lambda x, y: (x[0]+y[0], x[1]+y[1], x[2]+y[2], x[3]+y[3], x[4]+y[4]) )\n",
    "\n",
    "inact_usr_first_q_stats = inact_usr.join(first_q_by_usr)\\\n",
    ".map(lambda x: (x[1][1][2],x[1][1][3],x[1][1][4],x[1][1][5],1))\\\n",
    ".reduce(lambda x, y: (x[0]+y[0], x[1]+y[1], x[2]+y[2], x[3]+y[3], x[4]+y[4]) )"
   ]
  },
  {
   "cell_type": "code",
   "execution_count": null,
   "metadata": {
    "collapsed": true
   },
   "outputs": [],
   "source": [
    "def identify_veterans():\n",
    "    return {\"vet_score\": float(act_usr_first_q_stats[0])/act_usr_first_q_stats[4],\n",
    "            \"vet_views\": float(act_usr_first_q_stats[1])/act_usr_first_q_stats[4],\n",
    "            \"vet_answers\": float(act_usr_first_q_stats[2])/act_usr_first_q_stats[4],\n",
    "            \"vet_favorites\": float(act_usr_first_q_stats[3])/act_usr_first_q_stats[4],\n",
    "            \"brief_score\": float(inact_usr_first_q_stats[0])/inact_usr_first_q_stats[4],\n",
    "            \"brief_views\": float(inact_usr_first_q_stats[1])/inact_usr_first_q_stats[4],\n",
    "            \"brief_answers\": float(inact_usr_first_q_stats[2])/inact_usr_first_q_stats[4],\n",
    "            \"brief_favorites\": float(inact_usr_first_q_stats[3])/inact_usr_first_q_stats[4]\n",
    "           }"
   ]
  },
  {
   "cell_type": "markdown",
   "metadata": {},
   "source": [
    "# Q8 (identify_veterans_full)"
   ]
  },
  {
   "cell_type": "code",
   "execution_count": null,
   "metadata": {
    "collapsed": true
   },
   "outputs": [],
   "source": [
    "my_input_dir = r'spark-stack-data/allUsers/part-0*'\n",
    "Usr_Id_vs_Cr_date = sc.textFile(localpath(my_input_dir)).map(parse_User_Record_trf_2).filter(lambda x: x is not None and x[1]!=datetime(1970, 1, 1, 0, 0, 0))\n",
    "\n",
    "\n",
    "my_input_dir = r'spark-stack-data/allPosts/part-0*'\n",
    "all_posts = sc.textFile(localpath(my_input_dir)).map(parse_Posts_trf_4).filter(lambda x: x is not None and x[2]!=datetime(1970, 1, 1, 0, 0, 0))\n",
    "\n",
    "\n",
    "first_q_by_usr = sc.textFile(localpath(my_input_dir)).map(parse_Posts_trf_4)\\\n",
    ".filter(lambda x: x is not None and x[0]!=-2 and x[1]==1 and x[2]!=datetime(1970, 1, 1, 0, 0, 0) and x[3]!=-999999 and x[4]!=-2 and x[5]!=-2 and x[6]!=-2 )\\\n",
    ".map(lambda x: (x[0], (x[1],x[2],x[3],x[4],x[5],x[6]) ))\\\n",
    ".reduceByKey(lambda x, y: x if x[1]<y[1] else y )\n",
    "\n",
    "\n",
    "act_usr = Usr_Id_vs_Cr_date.join(  all_posts.map(lambda x: (x[0], x[2]))  )\\\n",
    ".map(lambda x: (x[0], 1) if timedelta(100, 0)<x[1][1]-x[1][0]<timedelta(150, 0) else (x[0], 0) )\\\n",
    ".reduceByKey(lambda x, y: x+y)\\\n",
    ".filter(lambda x: x[1]>0)\\\n",
    ".map(lambda x: (x[0],1) )\n",
    "\n",
    "\n",
    "inact_usr = Usr_Id_vs_Cr_date.join(  all_posts.map(lambda x: (x[0], x[2]))  )\\\n",
    ".map(lambda x: (x[0], 1) if timedelta(100, 0)<x[1][1]-x[1][0]<timedelta(150, 0) else (x[0], 0) )\\\n",
    ".reduceByKey(lambda x, y: x+y)\\\n",
    ".filter(lambda x: x[1]==0)\\\n",
    ".map(lambda x: (x[0],1) )\n",
    "\n",
    "\n",
    "act_usr_first_q_stats = act_usr.join(first_q_by_usr)\\\n",
    ".map(lambda x: (x[1][1][2],x[1][1][3],x[1][1][4],x[1][1][5],1))\\\n",
    ".reduce(lambda x, y: (x[0]+y[0], x[1]+y[1], x[2]+y[2], x[3]+y[3], x[4]+y[4]) )\n",
    "\n",
    "inact_usr_first_q_stats = inact_usr.join(first_q_by_usr)\\\n",
    ".map(lambda x: (x[1][1][2],x[1][1][3],x[1][1][4],x[1][1][5],1))\\\n",
    ".reduce(lambda x, y: (x[0]+y[0], x[1]+y[1], x[2]+y[2], x[3]+y[3], x[4]+y[4]) )"
   ]
  },
  {
   "cell_type": "code",
   "execution_count": null,
   "metadata": {
    "collapsed": true
   },
   "outputs": [],
   "source": [
    "def identify_veterans_full():\n",
    "    return {\"vet_score\": float(act_usr_first_q_stats[0])/act_usr_first_q_stats[4],\n",
    "            \"vet_views\": float(act_usr_first_q_stats[1])/act_usr_first_q_stats[4],\n",
    "            \"vet_answers\": float(act_usr_first_q_stats[2])/act_usr_first_q_stats[4],\n",
    "            \"vet_favorites\": float(act_usr_first_q_stats[3])/act_usr_first_q_stats[4],\n",
    "            \"brief_score\": float(inact_usr_first_q_stats[0])/inact_usr_first_q_stats[4],\n",
    "            \"brief_views\": float(inact_usr_first_q_stats[1])/inact_usr_first_q_stats[4],\n",
    "            \"brief_answers\": float(inact_usr_first_q_stats[2])/inact_usr_first_q_stats[4],\n",
    "            \"brief_favorites\": float(inact_usr_first_q_stats[3])/inact_usr_first_q_stats[4]\n",
    "           }"
   ]
  },
  {
   "cell_type": "markdown",
   "metadata": {},
   "source": [
    "# Q9 (word2vec)\n",
    "using the tags of each StackExchange post as documents  \n",
    "Spark ML's implementation of Word2Vec (this will require using DataFrames)  \n",
    "list of the top 25 closest synonyms to \"ggplot2\" and their similarity score in tuple format (\"string\", number)  \n",
    "dimensionality of the vector space should be 100. The random seed should be 42L."
   ]
  },
  {
   "cell_type": "code",
   "execution_count": 1,
   "metadata": {
    "collapsed": true
   },
   "outputs": [],
   "source": [
    "from pyspark import SparkContext\n",
    "sc = SparkContext(\"local[*]\", \"temp\")\n",
    "\n",
    "import os\n",
    "def localpath(path):\n",
    "    return 'file://' + str(os.path.abspath(os.path.curdir)) + '/' + path\n",
    "\n",
    "# needed to convert RDDs into DataFrames\n",
    "from pyspark.sql import SQLContext\n",
    "sqlContext = SQLContext(sc)\n",
    "\n",
    "from pyspark.ml.feature import Word2Vec"
   ]
  },
  {
   "cell_type": "code",
   "execution_count": 11,
   "metadata": {
    "collapsed": true
   },
   "outputs": [],
   "source": [
    "from lxml import objectify, etree\n",
    "import re\n",
    "from datetime import datetime, timedelta\n",
    "\n",
    "def parse_Posts_trf_5(line):    \n",
    "    try:\n",
    "        strings = re.search('^<row', line.encode('utf-8').strip())\n",
    "        if strings:\n",
    "            root = objectify.fromstring(line.encode('utf-8').strip())\n",
    "            Tags = re.compile('\\w+').findall( root.attrib['Tags'] )\n",
    "            return (Tags)\n",
    "        else:\n",
    "            return None\n",
    "    except:\n",
    "        return None"
   ]
  },
  {
   "cell_type": "code",
   "execution_count": null,
   "metadata": {
    "collapsed": true
   },
   "outputs": [],
   "source": [
    "my_input_dir = r'spark-stack-data/allPosts/part*'\n",
    "\n",
    "my_tags = sc.textFile(localpath(my_input_dir)).map(parse_Posts_trf_5).filter(lambda x: x is not None).map(lambda x: (x,1)).toDF(['tags', 'some_var'])\n",
    "w2v = Word2Vec(vectorSize=100, seed=42, inputCol='tags', outputCol='vectors')#, minCount=1\n",
    "my_model = w2v.fit(my_tags)\n",
    "\n",
    "vectors = my_model.getVectors().rdd.map(lambda x: (x.word, x.vector))\n",
    "\n",
    "n_synonyms = 25\n",
    "my_synonyms = my_model.findSynonyms(\"ggplot2\", n_synonyms).select(\"word\", \"similarity\").take(n_synonyms)\n",
    "Q9_res = []\n",
    "for i in range(n_synonyms):\n",
    "    Q9_res.append( (my_synonyms[i][0], my_synonyms[i][1]) )"
   ]
  },
  {
   "cell_type": "code",
   "execution_count": 197,
   "metadata": {
    "collapsed": true
   },
   "outputs": [],
   "source": [
    "sc.stop()"
   ]
  }
 ],
 "metadata": {
  "kernelspec": {
   "display_name": "Python 2",
   "language": "python",
   "name": "python2"
  },
  "language_info": {
   "codemirror_mode": {
    "name": "ipython",
    "version": 2
   },
   "file_extension": ".py",
   "mimetype": "text/x-python",
   "name": "python",
   "nbconvert_exporter": "python",
   "pygments_lexer": "ipython2",
   "version": "2.7.14"
  }
 },
 "nbformat": 4,
 "nbformat_minor": 2
}
