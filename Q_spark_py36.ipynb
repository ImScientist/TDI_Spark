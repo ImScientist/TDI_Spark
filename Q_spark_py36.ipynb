{
 "cells": [
  {
   "cell_type": "markdown",
   "metadata": {},
   "source": [
    "# Q1 (bad_xml)"
   ]
  },
  {
   "cell_type": "code",
   "execution_count": 1,
   "metadata": {
    "collapsed": true
   },
   "outputs": [],
   "source": [
    "import gzip, sys, os, re\n",
    "from pyspark import SparkContext\n",
    "from datetime import datetime, timedelta\n",
    "\n",
    "import xml.etree.ElementTree as ET\n",
    "import numpy as np\n",
    "\n",
    "%matplotlib inline\n",
    "import matplotlib\n",
    "import matplotlib.pyplot as plt"
   ]
  },
  {
   "cell_type": "code",
   "execution_count": null,
   "metadata": {
    "collapsed": true
   },
   "outputs": [],
   "source": [
    "def localpath(path):\n",
    "    return str(os.path.abspath(os.path.curdir)) + path\n",
    "\n",
    "def startsWithRow(line):\n",
    "    return len( re.compile(u'^<row ').findall(line.strip()) ) > 0\n",
    "\n",
    "def applyParser(line):\n",
    "    try:\n",
    "        root = ET.fromstring(re.compile(u'(^<row(.*?)\\/>)').findall(line.strip())[0][0].encode('utf-8').strip())\n",
    "        \n",
    "        return root\n",
    "    except:\n",
    "        return None"
   ]
  },
  {
   "cell_type": "code",
   "execution_count": 7,
   "metadata": {},
   "outputs": [
    {
     "name": "stdout",
     "output_type": "stream",
     "text": [
      "lines with posts:\t 109522\n",
      "readable lines:\t\t 108721\n",
      "unreadable posts:\t 801\n"
     ]
    }
   ],
   "source": [
    "my_input_dir = r'\\spark-stats-data\\allPosts\\part-0*'\n",
    "\n",
    "lines_1 = sc.textFile(localpath(my_input_dir)).map(startsWithRow).filter(lambda x: x is True).count()\n",
    "lines_2 = sc.textFile(localpath(my_input_dir)).map(applyParser).filter(lambda x: x is not None).count()\n",
    "lines_3 = lines_1-lines_2\n",
    "\n",
    "print(\"lines with posts:\\t {0}\".format(lines_1) )\n",
    "print(\"readable lines:\\t\\t {0}\".format(lines_2) )\n",
    "print(\"unreadable posts:\\t {0}\".format(lines_3) )"
   ]
  },
  {
   "cell_type": "markdown",
   "metadata": {},
   "source": [
    "# Q2 (upvote_percentage)"
   ]
  },
  {
   "cell_type": "code",
   "execution_count": 8,
   "metadata": {
    "collapsed": true
   },
   "outputs": [],
   "source": [
    "class Vote_El(object): #I get a pickle error\n",
    "    def __init__(self, PostId, Up, Down, Fav):\n",
    "        self.PostId = PostId\n",
    "        self.Up = Up\n",
    "        self.Down = Down\n",
    "        self.Fav = Fav\n",
    "    \n",
    "def Parse_Vote(line):\n",
    "    \n",
    "    root = applyParser(line)\n",
    "    \n",
    "    if root is not None:\n",
    "        \n",
    "        try:\n",
    "            PostId = int(root.get('PostId'))\n",
    "            Up, Down, Fav = 0, 0, 0\n",
    "        \n",
    "            var = int(root.get('VoteTypeId'))\n",
    "            if var == 2: Up += 1\n",
    "            elif var == 3: Down += 1\n",
    "            elif var == 5: Fav += 1\n",
    "        \n",
    "            #return Vote_El(PostId, Up, Down, Fav)\n",
    "            return (PostId, Up, Down, Fav)\n",
    "        \n",
    "        except:\n",
    "            return None\n",
    "        \n",
    "    else:\n",
    "        return None"
   ]
  },
  {
   "cell_type": "code",
   "execution_count": 31,
   "metadata": {
    "scrolled": true
   },
   "outputs": [],
   "source": [
    "my_input_dir = r'spark-stats-data\\allVotes\\part-0*'\n",
    "\n",
    "top_50 = sc.textFile(my_input_dir).map(Parse_Vote).filter(lambda x: x is not None)\\\n",
    "        .map(lambda x: (x[0], (x[1], x[2], x[3])) )\\\n",
    "        .reduceByKey(lambda x,y: (x[0]+y[0], x[1]+y[1], x[2]+y[2]) )\\\n",
    "        .map(lambda k_v: (k_v[1][2], (k_v[1][0], k_v[1][1])) )\\\n",
    "        .reduceByKey(lambda x,y: (x[0]+y[0], x[1]+y[1]) )\\\n",
    "        .map(lambda k_v: (  k_v[0], k_v[1][0]/float(k_v[1][0]+k_v[1][1])  )  )\\\n",
    "        .sortByKey(ascending=True).take(50)"
   ]
  },
  {
   "cell_type": "code",
   "execution_count": null,
   "metadata": {
    "collapsed": true
   },
   "outputs": [],
   "source": [
    "# python 3 does not like the auto tuple unpacking\n",
    "\n",
    "# .map(lambda (key,val): (val[2], (val[0], val[1])) )\n",
    "# has to be changed as follows\n",
    "# .map(lambda k_v: (k_v[1][2], (k_v[1][0], k_v[1][1])) )"
   ]
  },
  {
   "cell_type": "code",
   "execution_count": 59,
   "metadata": {},
   "outputs": [
    {
     "data": {
      "image/png": "[encoded data removed]",
      "text/plain": [
       "<matplotlib.figure.Figure at 0x196661a30f0>"
      ]
     },
     "metadata": {},
     "output_type": "display_data"
    }
   ],
   "source": [
    "data = np.array([ [el[0], el[1]] for el in top_50 ])\n",
    "\n",
    "plt.figure(figsize=(4, 4))\n",
    "plt.scatter( data[:,0],  data[:,1], alpha=0.7)\n",
    "plt.xlabel('Favourites')\n",
    "plt.ylabel('upvotes / (upvotes + downvotes)')\n",
    "plt.show()"
   ]
  },
  {
   "cell_type": "markdown",
   "metadata": {},
   "source": [
    "# Q3  (answer_percentage)   "
   ]
  },
  {
   "cell_type": "code",
   "execution_count": 34,
   "metadata": {
    "collapsed": true
   },
   "outputs": [],
   "source": [
    "import numbers\n",
    "\n",
    "def Get_Ustr_Info(line):\n",
    "    \n",
    "    root = applyParser(line)\n",
    "    \n",
    "    if root is not None:\n",
    "        try:    \n",
    "            UsrId = int(root.get('Id'))\n",
    "            Reputation = int(root.get('Reputation'))\n",
    "            return (UsrId, Reputation)\n",
    "        \n",
    "        except:\n",
    "            return None\n",
    "        \n",
    "    else:\n",
    "        return None\n",
    "    \n",
    "def Get_Posts_Info(line):\n",
    "    \n",
    "    root = applyParser(line)\n",
    "    \n",
    "    if root is not None:\n",
    "        try:\n",
    "            \n",
    "            if 'OwnerUserId' in root.attrib:\n",
    "                UsrId = int(root.attrib['OwnerUserId'])\n",
    "            else:\n",
    "                UsrId = -2\n",
    "            \n",
    "            quest, answ = 0, 0\n",
    "            \n",
    "            var = int(root.get('PostTypeId')) \n",
    "            if var == 1: quest += 1\n",
    "            elif var == 2: answ += 1\n",
    "            \n",
    "            return (UsrId, (quest, answ))\n",
    "        except:\n",
    "            return None\n",
    "    else:\n",
    "        return None\n",
    "    \n",
    "def Filter(el):\n",
    "    try:\n",
    "        key, val = el\n",
    "        if isinstance(key, numbers.Number) and isinstance(val[1], numbers.Number) and isinstance(val[0][0], numbers.Number) and isinstance(val[0][1], numbers.Number):\n",
    "            return True\n",
    "        else:\n",
    "            False\n",
    "    except:\n",
    "        return False"
   ]
  },
  {
   "cell_type": "code",
   "execution_count": 42,
   "metadata": {
    "collapsed": true
   },
   "outputs": [],
   "source": [
    "my_input_Posts = r'spark-stats-data\\allPosts\\part-0*'\n",
    "my_input_Users = r'spark-stats-data\\allUsers\\part-0*'\n",
    "\n",
    "posts = sc.textFile(my_input_Posts).map(Get_Posts_Info).filter(lambda x: x is not None)\n",
    "users = sc.textFile(my_input_Users).map(Get_Ustr_Info).filter(lambda x: x is not None)"
   ]
  },
  {
   "cell_type": "code",
   "execution_count": null,
   "metadata": {
    "collapsed": true
   },
   "outputs": [],
   "source": [
    "table = posts.join(users).filter(Filter)\\\n",
    "        .map(lambda k_v: (k_v[0], (k_v[1][1], k_v[1][0][0], k_v[1][0][1])) )\\\n",
    "        .reduceByKey(lambda x,y: (x[0], x[1]+y[1], x[2]+y[2]) )\\\n",
    "        .filter(lambda k_v: k_v[1][1]+k_v[1][2]!=0 )\\\n",
    "        .map(lambda k_v: (k_v[1][0], k_v[1][2]/float(k_v[1][1]+k_v[1][2])) )\\\n",
    "        .sortByKey(ascending=False)\\\n",
    "        .take(99)"
   ]
  },
  {
   "cell_type": "code",
   "execution_count": 57,
   "metadata": {
    "scrolled": true
   },
   "outputs": [
    {
     "data": {
      "image/png": "[encoded data removed]",
      "text/plain": [
       "<matplotlib.figure.Figure at 0x196660f5828>"
      ]
     },
     "metadata": {},
     "output_type": "display_data"
    }
   ],
   "source": [
    "data = np.array([ [el[0], el[1]] for el in table ])\n",
    "\n",
    "plt.figure(figsize=(4, 4))\n",
    "plt.scatter( data[:,0],  data[:,1], alpha=0.7)\n",
    "plt.xlabel('Reputation')\n",
    "plt.ylabel('answers / (questions + answers)')\n",
    "plt.show()"
   ]
  },
  {
   "cell_type": "markdown",
   "metadata": {},
   "source": [
    "Average answer percentage"
   ]
  },
  {
   "cell_type": "code",
   "execution_count": 63,
   "metadata": {},
   "outputs": [
    {
     "name": "stdout",
     "output_type": "stream",
     "text": [
      "tot. Q = 52046,\t\t tot. A = 55298, \t avg answer percentage = 0.5151475629751081\n"
     ]
    }
   ],
   "source": [
    "avg_ = posts.map(lambda k_v: (1, (k_v[1][0], k_v[1][1])) )\\\n",
    "        .reduceByKey(lambda x,y: (x[0]+y[0], x[1]+y[1]) )\\\n",
    "        .map(lambda k_v: (k_v[1][0], k_v[1][1], k_v[1][1]/float(k_v[1][0]+k_v[1][1])) )\\\n",
    "        .collect()\n",
    "        \n",
    "print('tot. Q = {0},\\t\\t tot. A = {1}, \\t avg answer percentage = {2}'.format(avg_[0][0], avg_[0][1], avg_[0][2])  )"
   ]
  },
  {
   "cell_type": "markdown",
   "metadata": {},
   "source": [
    "# Q4 (post_counts)"
   ]
  },
  {
   "cell_type": "code",
   "execution_count": 80,
   "metadata": {},
   "outputs": [],
   "source": [
    "def parse_Posts_trf_3(line):    \n",
    "    \n",
    "    root = applyParser(line)\n",
    "    \n",
    "    if root is not None:\n",
    "        try:\n",
    "        \n",
    "            if 'OwnerUserId' in root.attrib:\n",
    "                OwnerUserId = int(root.attrib['OwnerUserId'])\n",
    "            else:\n",
    "                OwnerUserId = -2\n",
    "                \n",
    "            return (OwnerUserId, 1)\n",
    "        \n",
    "        except:\n",
    "            return None\n",
    "        \n",
    "    else:\n",
    "        return None\n",
    "    \n",
    "\n",
    "    \n",
    "def parse_User_Record_trf_1(line):\n",
    "    \n",
    "    root = applyParser(line)\n",
    "    \n",
    "    if root is not None:\n",
    "        try:\n",
    "            Id, Reputation = int(root.attrib['Id']), int(root.attrib['Reputation'])\n",
    "            return (Id, Reputation)\n",
    "            \n",
    "        except:\n",
    "            return None\n",
    "            \n",
    "    else:\n",
    "        return None"
   ]
  },
  {
   "cell_type": "code",
   "execution_count": 88,
   "metadata": {},
   "outputs": [],
   "source": [
    "my_input_dir = r'spark-stats-data\\allPosts\\part-0*'\n",
    "\n",
    "Own_Id_vs_QA = sc.textFile(my_input_dir)\\\n",
    "    .map(parse_Posts_trf_3)\\\n",
    "    .filter(lambda x: x is not None)\\\n",
    "    .reduceByKey(lambda va, vb: va+vb)\n",
    "    \n",
    "my_input_dir = r'spark-stats-data\\allUsers\\part-0*'\n",
    "\n",
    "Usr_Id_vs_Rep = sc.textFile(my_input_dir)\\\n",
    "    .map(parse_User_Record_trf_1)\\\n",
    "    .filter(lambda x: x is not None)\n",
    "\n",
    "# qa____RepSum_Counts = (qa, (rep_sum, counts))\n",
    "# UsrId___rep_qa = (UsrId, (rep, qa))\n",
    "# QA____AvgRep = (QA, AvgRep)\n",
    "\n",
    "Usr_Id_vs_Rep_vs_QA = Usr_Id_vs_Rep.join(Own_Id_vs_QA)\\\n",
    "    .map(lambda UsrId___rep_qa: (UsrId___rep_qa[1][1], (UsrId___rep_qa[1][0],1)) )\\\n",
    "    .reduceByKey(lambda va, vb: (va[0]+vb[0], va[1]+vb[1]))\\\n",
    "    .map(lambda qa____RepSum_Counts:  (qa____RepSum_Counts[0], float(qa____RepSum_Counts[1][0]/qa____RepSum_Counts[1][1])) )\\\n",
    "    .sortBy(lambda QA____AvgRep: QA____AvgRep[0], ascending=False)\\\n",
    "    .collect()"
   ]
  },
  {
   "cell_type": "code",
   "execution_count": 91,
   "metadata": {},
   "outputs": [
    {
     "data": {
      "image/png": "[encoded data removed]",
      "text/plain": [
       "<matplotlib.figure.Figure at 0x1966683df60>"
      ]
     },
     "metadata": {},
     "output_type": "display_data"
    }
   ],
   "source": [
    "data = np.array([ [el[0], el[1]] for el in Usr_Id_vs_Rep_vs_QA[:100] ])\n",
    "\n",
    "plt.figure(figsize=(4, 4))\n",
    "plt.scatter( data[:,0],  data[:,1], alpha=0.4)\n",
    "plt.xlabel('Tot number of questions and answes')\n",
    "plt.ylabel('Average reputation')\n",
    "plt.show()"
   ]
  },
  {
   "cell_type": "markdown",
   "metadata": {},
   "source": [
    "## Q5 (quick_answers)\n",
    "        Id\n",
    "        PostTypeId\n",
    "          - 1: Question\n",
    "          - 2: Answer\n",
    "       - ParentID (only present if PostTypeId is 2)\n",
    "       - AcceptedAnswerId (only present if PostTypeId is 1)\n",
    "       - CreationDate\n",
    "       \n",
    "questoins: (Q_id, acc_answer_id, creation_date)  \n",
    "answer:    (A_id, ParentID, creation_date  )"
   ]
  },
  {
   "cell_type": "code",
   "execution_count": 93,
   "metadata": {
    "collapsed": true
   },
   "outputs": [],
   "source": [
    "def parse_Posts_trf_2(line): \n",
    "    \n",
    "    root = applyParser(line)\n",
    "    \n",
    "    if root is not None:\n",
    "        \n",
    "        try:    \n",
    "            if 'Id' in root.attrib:\n",
    "                Id = int(root.attrib['Id'])\n",
    "            else:\n",
    "                Id = -2\n",
    "            \n",
    "            #or just return None if CreationDate is not given\n",
    "            if 'CreationDate' in root.attrib:\n",
    "                CreationDate = datetime.strptime(root.attrib['CreationDate'], '%Y-%m-%dT%H:%M:%S.%f').replace(microsecond=0)\n",
    "            else:\n",
    "                CreationDate = datetime.datetime(1970, 1, 1, 0, 0, 0)\n",
    "            \n",
    "            PostTypeId = int(root.attrib['PostTypeId'])\n",
    "            if PostTypeId == 2:\n",
    "                if 'ParentID' in root.attrib:\n",
    "                    ParentID         = int(root.attrib['ParentID'])\n",
    "                else:\n",
    "                    ParentID         = -2\n",
    "                return (Id, ParentID, CreationDate, 'A')\n",
    "                \n",
    "            if PostTypeId == 1:\n",
    "                if 'AcceptedAnswerId' in root.attrib:\n",
    "                    AcceptedAnswerId = int(root.attrib['AcceptedAnswerId'])\n",
    "                else:\n",
    "                    AcceptedAnswerId = -2\n",
    "                return (Id, AcceptedAnswerId, CreationDate, 'Q')\n",
    "\n",
    "            return None        \n",
    "        \n",
    "        except:\n",
    "            return None\n",
    "    \n",
    "    else:\n",
    "        return None"
   ]
  },
  {
   "cell_type": "code",
   "execution_count": 105,
   "metadata": {},
   "outputs": [],
   "source": [
    "my_input_dir = r'spark-stats-data\\allPosts\\part-0*'\n",
    "\n",
    "q_with_acc_answ = sc.textFile(my_input_dir)\\\n",
    "    .map(parse_Posts_trf_2)\\\n",
    "    .filter(lambda x: x is not None)\\\n",
    "    .filter(lambda x: x[0]!=-2 and x[1]!=-2 and x[2]!=datetime(1970, 1, 1, 0, 0, 0) and x[3]=='Q')\n",
    "\n",
    "answ = sc.textFile(my_input_dir)\\\n",
    "    .map(parse_Posts_trf_2)\\\n",
    "    .filter(lambda x: x is not None)\\\n",
    "    .filter(lambda x: x[0]!=-2 and              x[2]!=datetime(1970, 1, 1, 0, 0, 0) and x[3]=='A')\n",
    "    \n",
    "acc_answ_in_my_set = q_with_acc_answ.map(lambda x: (x[1], x[2]))\\\n",
    "    .join( answ.map(lambda x: (x[0],x[2]) ) )\n",
    "    \n",
    "quick_acc_answ_in_my_set = acc_answ_in_my_set.filter(lambda x: x[1][1]-x[1][0]<timedelta(0, 10800) )\n",
    "\n",
    "tot_acc_answ_by_q_hour = acc_answ_in_my_set.map(lambda x: (x[1][0].hour ,1) )\\\n",
    "    .reduceByKey(lambda x, y: x+y)\\\n",
    "    .sortByKey().collect()\n",
    "    \n",
    "tot_quick_acc_answ_by_hour = quick_acc_answ_in_my_set.map(lambda x: (x[1][0].hour ,1) )\\\n",
    "    .reduceByKey(lambda x, y: x+y)\\\n",
    "    .sortByKey().collect()"
   ]
  },
  {
   "cell_type": "code",
   "execution_count": 110,
   "metadata": {
    "collapsed": true
   },
   "outputs": [],
   "source": [
    "q5_res = []\n",
    "for el1, el2 in zip(tot_acc_answ_by_q_hour, tot_quick_acc_answ_by_hour):\n",
    "    q5_res.append(float(el2[1])/el1[1])"
   ]
  },
  {
   "cell_type": "code",
   "execution_count": 116,
   "metadata": {},
   "outputs": [
    {
     "data": {
      "image/png": "[encoded data removed]",
      "text/plain": [
       "<matplotlib.figure.Figure at 0x196678b2278>"
      ]
     },
     "metadata": {},
     "output_type": "display_data"
    }
   ],
   "source": [
    "data       = np.array([ [el[0], el[1]] for el in tot_acc_answ_by_q_hour     ])\n",
    "data_quick = np.array([ [el[0], el[1]] for el in tot_quick_acc_answ_by_hour ])\n",
    "\n",
    "\n",
    "plt.figure(figsize=(13, 4))\n",
    "\n",
    "plt.subplot(1,3,1)\n",
    "plt.scatter( data[:,0],  data[:,1], alpha=0.9)\n",
    "plt.xlabel('hour')\n",
    "plt.ylabel('total accepted answers')\n",
    "plt.tight_layout()\n",
    "\n",
    "plt.subplot(1,3,2)\n",
    "plt.scatter( data_quick[:,0],  data_quick[:,1], alpha=0.9)\n",
    "plt.xlabel('hour')\n",
    "plt.ylabel('total accepted quick answers')\n",
    "plt.tight_layout()\n",
    "\n",
    "plt.subplot(1,3,3)\n",
    "plt.scatter( np.arange(0,24,1), q5_res, alpha=0.9)\n",
    "plt.xlabel('hour')\n",
    "plt.ylabel('quick / total accepted answers')\n",
    "plt.tight_layout()\n",
    "\n",
    "plt.show()"
   ]
  },
  {
   "cell_type": "markdown",
   "metadata": {},
   "source": [
    "# Q6 (quick_answers_full)   \n",
    "TODO..."
   ]
  },
  {
   "cell_type": "code",
   "execution_count": null,
   "metadata": {
    "collapsed": true
   },
   "outputs": [],
   "source": [
    "my_input_dir = r'spark-stack-data\\allPosts\\part-0*'\n",
    "\n",
    "\n",
    "q_with_acc_answ = sc.textFile(my_input_dir)\\\n",
    "    .map(parse_Posts_trf_2)\\\n",
    "    .filter(lambda x: x is not None)\\\n",
    "    .filter(lambda x: x[0]!=-2 and x[1]!=-2 and x[2]!=datetime(1970, 1, 1, 0, 0, 0) and x[3]=='Q')\n",
    "\n",
    "answ = sc.textFile(my_input_dir)\\\n",
    "    .map(parse_Posts_trf_2)\\\n",
    "    .filter(lambda x: x is not None)\\\n",
    "    .filter(lambda x: x[0]!=-2 and              x[2]!=datetime(1970, 1, 1, 0, 0, 0) and x[3]=='A')\n",
    "    \n",
    "acc_answ_in_my_set = q_with_acc_answ.map(lambda x: (x[1], x[2]))\\\n",
    "    .join( answ.map(lambda x: (x[0],x[2]) ) )\n",
    "    \n",
    "quick_acc_answ_in_my_set = acc_answ_in_my_set.filter(lambda x: x[1][1]-x[1][0]<timedelta(0, 10800) )\n",
    "\n",
    "tot_acc_answ_by_q_hour = acc_answ_in_my_set.map(lambda x: (x[1][0].hour ,1) )\\\n",
    "    .reduceByKey(lambda x, y: x+y)\\\n",
    "    .sortByKey().collect()\n",
    "    \n",
    "tot_quick_acc_answ_by_hour = quick_acc_answ_in_my_set.map(lambda x: (x[1][0].hour ,1) )\\\n",
    "    .reduceByKey(lambda x, y: x+y)\\\n",
    "    .sortByKey().collect()"
   ]
  },
  {
   "cell_type": "code",
   "execution_count": null,
   "metadata": {
    "collapsed": true
   },
   "outputs": [],
   "source": [
    "q6_res = []\n",
    "for el1, el2 in zip(tot_acc_answ_by_q_hour, tot_quick_acc_answ_by_hour):\n",
    "    q6_res.append(float(el2[1])/el1[1])"
   ]
  },
  {
   "cell_type": "code",
   "execution_count": null,
   "metadata": {
    "collapsed": true
   },
   "outputs": [],
   "source": [
    "data       = np.array([ [el[0], el[1]] for el in tot_acc_answ_by_q_hour     ])\n",
    "data_quick = np.array([ [el[0], el[1]] for el in tot_quick_acc_answ_by_hour ])\n",
    "\n",
    "\n",
    "plt.figure(figsize=(13, 4))\n",
    "\n",
    "plt.subplot(1,3,1)\n",
    "plt.scatter( data[:,0],  data[:,1], alpha=0.9)\n",
    "plt.xlabel('hour')\n",
    "plt.ylabel('total accepted answers')\n",
    "plt.tight_layout()\n",
    "\n",
    "plt.subplot(1,3,2)\n",
    "plt.scatter( data_quick[:,0],  data_quick[:,1], alpha=0.9)\n",
    "plt.xlabel('hour')\n",
    "plt.ylabel('total accepted quick answers')\n",
    "plt.tight_layout()\n",
    "\n",
    "plt.subplot(1,3,3)\n",
    "plt.scatter( np.arange(0,24,1), q5_res, alpha=0.9)\n",
    "plt.xlabel('hour')\n",
    "plt.ylabel('quick / total accepted answers')\n",
    "plt.tight_layout()\n",
    "\n",
    "plt.show()"
   ]
  },
  {
   "cell_type": "markdown",
   "metadata": {},
   "source": [
    "# Q7 (identify_veterans)\n",
    "posts 100-150 days after account creation date -> (active vs inactive users)  \n",
    "get first question of veterans and users  \n",
    "for both groups: average the score, views, number of answers and number of favorites of the users' first question  "
   ]
  },
  {
   "cell_type": "code",
   "execution_count": 118,
   "metadata": {
    "collapsed": true
   },
   "outputs": [],
   "source": [
    "def parse_User_Record_trf_2(line):\n",
    "    \n",
    "    root = applyParser(line)\n",
    "    \n",
    "    if root is not None:\n",
    "        try:\n",
    "            \n",
    "            if 'Id' in root.attrib: \n",
    "                Id = int(root.attrib['Id'])\n",
    "            else: \n",
    "                Id = -2\n",
    "    \n",
    "            if 'CreationDate' in root.attrib: \n",
    "                CreationDate = datetime.strptime(root.attrib['CreationDate'], '%Y-%m-%dT%H:%M:%S.%f').replace(microsecond=0)\n",
    "            else:\n",
    "                CreationDate = datetime.datetime(1970, 1, 1, 0, 0, 0)\n",
    "        \n",
    "            return (Id, CreationDate)            \n",
    "            \n",
    "        except:\n",
    "            return None\n",
    "        \n",
    "    else:\n",
    "        return None\n",
    "\n",
    "    \n",
    "def parse_Posts_trf_4(line):\n",
    "    \n",
    "    root = applyParser(line)\n",
    "    \n",
    "    if root is not None:\n",
    "        try:\n",
    "            if 'OwnerUserId' in root.attrib: \n",
    "                OwnerUserId = int(root.attrib['OwnerUserId'])\n",
    "            else: \n",
    "                OwnerUserId = -2\n",
    "            \n",
    "            if 'PostTypeId' in root.attrib: \n",
    "                PostTypeId = int(root.attrib['PostTypeId'])\n",
    "            else: \n",
    "                PostTypeId = -2\n",
    "            \n",
    "            if 'CreationDate' in root.attrib: \n",
    "                CreationDate = datetime.strptime(root.attrib['CreationDate'], '%Y-%m-%dT%H:%M:%S.%f').replace(microsecond=0)\n",
    "            else: \n",
    "                CreationDate = datetime.datetime(1970, 1, 1, 0, 0, 0)\n",
    "            \n",
    "            if 'Score' in root.attrib: \n",
    "                Score = int(root.attrib['Score'])\n",
    "            else: \n",
    "                Score = 0 #-999999\n",
    "            \n",
    "            if 'ViewCount' in root.attrib: \n",
    "                ViewCount = int(root.attrib['ViewCount'])\n",
    "            else: \n",
    "                ViewCount = 0 #-2\n",
    "            \n",
    "            if 'AnswerCount' in root.attrib: \n",
    "                AnswerCount = int(root.attrib['AnswerCount'])\n",
    "            else: \n",
    "                AnswerCount = 0 #-2\n",
    "            \n",
    "            if 'FavoriteCount' in root.attrib: \n",
    "                FavoriteCount = int(root.attrib['FavoriteCount'])\n",
    "            else: \n",
    "                FavoriteCount = 0 #-2\n",
    "            \n",
    "            return (OwnerUserId, PostTypeId, CreationDate, Score, ViewCount, AnswerCount, FavoriteCount)            \n",
    "            \n",
    "        except:\n",
    "            return None\n",
    "    else:\n",
    "        return None"
   ]
  },
  {
   "cell_type": "code",
   "execution_count": null,
   "metadata": {
    "collapsed": true
   },
   "outputs": [],
   "source": [
    "my_input_dir = r'spark-stats-data\\allUsers\\part-0*'\n",
    "\n",
    "Usr_Id_vs_Cr_date = sc.textFile(my_input_dir)\\\n",
    "    .map(parse_User_Record_trf_2)\\\n",
    "    .filter(lambda x: x is not None and x[1]!=datetime(1970, 1, 1, 0, 0, 0))\n",
    "\n",
    "my_input_dir = r'spark-stats-data\\allPosts\\part-0*'\n",
    "\n",
    "all_posts = sc.textFile(my_input_dir)\\\n",
    "    .map(parse_Posts_trf_4)\\\n",
    "    .filter(lambda x: x is not None and x[2]!=datetime(1970, 1, 1, 0, 0, 0))\n",
    "\n",
    "first_q_by_usr = sc.textFile(my_input_dir)\\\n",
    "    .map(parse_Posts_trf_4)\\\n",
    "    .filter(lambda x: x is not None and x[0]!=-2 and x[1]==1 and x[2]!=datetime(1970, 1, 1, 0, 0, 0) and x[3]!=-999999 and x[4]!=-2 and x[5]!=-2 and x[6]!=-2 )\\\n",
    "    .map(lambda x: (x[0], (x[1],x[2],x[3],x[4],x[5],x[6]) ))\\\n",
    "    .reduceByKey(lambda x, y: x if x[1]<y[1] else y )\n",
    "\n",
    "act_usr = Usr_Id_vs_Cr_date.join(  all_posts.map(lambda x: (x[0], x[2]))  )\\\n",
    "    .map(lambda x: (x[0], 1) if timedelta(100, 0)<x[1][1]-x[1][0]<timedelta(150, 0) else (x[0], 0) )\\\n",
    "    .reduceByKey(lambda x, y: x+y)\\\n",
    "    .filter(lambda x: x[1]>0)\\\n",
    "    .map(lambda x: (x[0],1) )\n",
    "\n",
    "inact_usr = Usr_Id_vs_Cr_date.join(  all_posts.map(lambda x: (x[0], x[2]))  )\\\n",
    "    .map(lambda x: (x[0], 1) if timedelta(100, 0)<x[1][1]-x[1][0]<timedelta(150, 0) else (x[0], 0) )\\\n",
    "    .reduceByKey(lambda x, y: x+y)\\\n",
    "    .filter(lambda x: x[1]==0)\\\n",
    "    .map(lambda x: (x[0],1) )\n",
    "\n",
    "act_usr_first_q_stats = act_usr.join(first_q_by_usr)\\\n",
    "    .map(lambda x: (x[1][1][2],x[1][1][3],x[1][1][4],x[1][1][5],1))\\\n",
    "    .reduce(lambda x, y: (x[0]+y[0], x[1]+y[1], x[2]+y[2], x[3]+y[3], x[4]+y[4]) )\n",
    "\n",
    "inact_usr_first_q_stats = inact_usr.join(first_q_by_usr)\\\n",
    "    .map(lambda x: (x[1][1][2],x[1][1][3],x[1][1][4],x[1][1][5],1))\\\n",
    "    .reduce(lambda x, y: (x[0]+y[0], x[1]+y[1], x[2]+y[2], x[3]+y[3], x[4]+y[4]) )"
   ]
  },
  {
   "cell_type": "code",
   "execution_count": 132,
   "metadata": {},
   "outputs": [],
   "source": [
    "au =  np.array([el for el in act_usr_first_q_stats])\n",
    "iu =  np.array([el for el in inact_usr_first_q_stats])\n",
    "au = au/float(au[-1])\n",
    "iu = iu/float(iu[-1])"
   ]
  },
  {
   "cell_type": "code",
   "execution_count": 137,
   "metadata": {},
   "outputs": [
    {
     "name": "stdout",
     "output_type": "stream",
     "text": [
      "active user: \t Score = 3.54\t ViewCount = 926.40\t AnswerCount = 1.30\t FavoriteCount = 1.30\n",
      "inactive user: \t Score = 2.10\t ViewCount = 553.39\t AnswerCount = 0.97\t FavoriteCount = 0.58\n"
     ]
    }
   ],
   "source": [
    "print('active user: \\t Score = {0:.2f}\\t ViewCount = {1:.2f}\\t AnswerCount = {2:.2f}\\t FavoriteCount = {3:.2f}'\\\n",
    "      .format(au[0],au[1],au[2],au[3]) )\n",
    "print('inactive user: \\t Score = {0:.2f}\\t ViewCount = {1:.2f}\\t AnswerCount = {2:.2f}\\t FavoriteCount = {3:.2f}'\\\n",
    "      .format(iu[0],iu[1],iu[2],iu[3]) )"
   ]
  },
  {
   "cell_type": "markdown",
   "metadata": {},
   "source": [
    "# Q9 (word2vec)   \n",
    "TODO...   \n",
    "using the tags of each StackExchange post as documents  \n",
    "Spark ML's implementation of Word2Vec (this will require using DataFrames)  \n",
    "list of the top 25 closest synonyms to \"ggplot2\" and their similarity score in tuple format (\"string\", number)  \n",
    "dimensionality of the vector space should be 100. The random seed should be 42L."
   ]
  },
  {
   "cell_type": "code",
   "execution_count": null,
   "metadata": {
    "collapsed": true
   },
   "outputs": [],
   "source": [
    "# needed to convert RDDs into DataFrames\n",
    "from pyspark.sql import SQLContext\n",
    "sqlContext = SQLContext(sc)\n",
    "\n",
    "from pyspark.ml.feature import Word2Vec"
   ]
  },
  {
   "cell_type": "code",
   "execution_count": null,
   "metadata": {
    "collapsed": true
   },
   "outputs": [],
   "source": [
    "def parse_Posts_trf_5(line):    \n",
    "    \n",
    "    root = applyParser(line)\n",
    "    \n",
    "    if root is not None:\n",
    "        try:\n",
    "            Tags = re.compile('\\w+').findall( root.attrib['Tags'] )\n",
    "            return (Tags)\n",
    "        except:\n",
    "            return None\n",
    "    else:\n",
    "        return None"
   ]
  },
  {
   "cell_type": "code",
   "execution_count": null,
   "metadata": {
    "collapsed": true
   },
   "outputs": [],
   "source": []
  },
  {
   "cell_type": "code",
   "execution_count": null,
   "metadata": {
    "collapsed": true
   },
   "outputs": [],
   "source": []
  },
  {
   "cell_type": "code",
   "execution_count": null,
   "metadata": {
    "collapsed": true
   },
   "outputs": [],
   "source": []
  },
  {
   "cell_type": "code",
   "execution_count": null,
   "metadata": {
    "collapsed": true
   },
   "outputs": [],
   "source": []
  },
  {
   "cell_type": "code",
   "execution_count": null,
   "metadata": {
    "collapsed": true
   },
   "outputs": [],
   "source": []
  },
  {
   "cell_type": "code",
   "execution_count": null,
   "metadata": {
    "collapsed": true
   },
   "outputs": [],
   "source": []
  },
  {
   "cell_type": "code",
   "execution_count": null,
   "metadata": {
    "collapsed": true
   },
   "outputs": [],
   "source": []
  }
 ],
 "metadata": {
  "kernelspec": {
   "display_name": "Python 3",
   "language": "python",
   "name": "python3"
  },
  "language_info": {
   "codemirror_mode": {
    "name": "ipython",
    "version": 3
   },
   "file_extension": ".py",
   "mimetype": "text/x-python",
   "name": "python",
   "nbconvert_exporter": "python",
   "pygments_lexer": "ipython3",
   "version": "3.6.2"
  }
 },
 "nbformat": 4,
 "nbformat_minor": 2
}
