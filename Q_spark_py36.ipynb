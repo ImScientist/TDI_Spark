{
 "cells": [
  {
   "cell_type": "markdown",
   "metadata": {},
   "source": [
    "# Q1 (bad_xml)"
   ]
  },
  {
   "cell_type": "code",
   "execution_count": 1,
   "metadata": {
    "collapsed": true
   },
   "outputs": [],
   "source": [
    "import gzip, sys, os, re\n",
    "from pyspark import SparkContext\n",
    "\n",
    "import xml.etree.ElementTree as ET\n",
    "\n",
    "def localpath(path):\n",
    "    return str(os.path.abspath(os.path.curdir)) + path\n",
    "\n",
    "def startsWithRow(line):\n",
    "    return len( re.compile(u'^<row ').findall(line.strip()) ) > 0\n",
    "\n",
    "def applyParser(line):\n",
    "    try:\n",
    "        root = ET.fromstring(re.compile(u'(^<row(.*?)\\/>)').findall(line.strip())[0][0].encode('utf-8').strip())\n",
    "        \n",
    "        return root\n",
    "    except:\n",
    "        return None"
   ]
  },
  {
   "cell_type": "code",
   "execution_count": 7,
   "metadata": {},
   "outputs": [
    {
     "name": "stdout",
     "output_type": "stream",
     "text": [
      "lines with posts:\t 109522\n",
      "readable lines:\t\t 108721\n",
      "unreadable posts:\t 801\n"
     ]
    }
   ],
   "source": [
    "my_input_dir = r'\\spark-stats-data\\allPosts\\part-0*'\n",
    "\n",
    "lines_1 = sc.textFile(localpath(my_input_dir)).map(startsWithRow).filter(lambda x: x is True).count()\n",
    "lines_2 = sc.textFile(localpath(my_input_dir)).map(applyParser).filter(lambda x: x is not None).count()\n",
    "lines_3 = lines_1-lines_2\n",
    "\n",
    "print(\"lines with posts:\\t {0}\".format(lines_1) )\n",
    "print(\"readable lines:\\t\\t {0}\".format(lines_2) )\n",
    "print(\"unreadable posts:\\t {0}\".format(lines_3) )"
   ]
  },
  {
   "cell_type": "markdown",
   "metadata": {},
   "source": [
    "# Q2 (upvote_percentage)"
   ]
  },
  {
   "cell_type": "code",
   "execution_count": 8,
   "metadata": {
    "collapsed": true
   },
   "outputs": [],
   "source": [
    "class Vote_El(object): #I get a pickle error\n",
    "    def __init__(self, PostId, Up, Down, Fav):\n",
    "        self.PostId = PostId\n",
    "        self.Up = Up\n",
    "        self.Down = Down\n",
    "        self.Fav = Fav\n",
    "    \n",
    "def Parse_Vote(line):\n",
    "    \n",
    "    root = applyParser(line)\n",
    "    \n",
    "    if root is not None:\n",
    "        \n",
    "        try:\n",
    "            PostId = int(root.get('PostId'))\n",
    "            Up, Down, Fav = 0, 0, 0\n",
    "        \n",
    "            var = int(root.get('VoteTypeId'))\n",
    "            if var == 2: Up += 1\n",
    "            elif var == 3: Down += 1\n",
    "            elif var == 5: Fav += 1\n",
    "        \n",
    "            #return Vote_El(PostId, Up, Down, Fav)\n",
    "            return (PostId, Up, Down, Fav)\n",
    "        \n",
    "        except:\n",
    "            return None\n",
    "        \n",
    "    else:\n",
    "        return None"
   ]
  },
  {
   "cell_type": "code",
   "execution_count": 31,
   "metadata": {
    "scrolled": true
   },
   "outputs": [],
   "source": [
    "my_input_dir = r'spark-stats-data\\allVotes\\part-0*'\n",
    "\n",
    "top_50 = sc.textFile(my_input_dir).map(Parse_Vote).filter(lambda x: x is not None)\\\n",
    "        .map(lambda x: (x[0], (x[1], x[2], x[3])) )\\\n",
    "        .reduceByKey(lambda x,y: (x[0]+y[0], x[1]+y[1], x[2]+y[2]) )\\\n",
    "        .map(lambda k_v: (k_v[1][2], (k_v[1][0], k_v[1][1])) )\\\n",
    "        .reduceByKey(lambda x,y: (x[0]+y[0], x[1]+y[1]) )\\\n",
    "        .map(lambda k_v: (  k_v[0], k_v[1][0]/float(k_v[1][0]+k_v[1][1])  )  )\\\n",
    "        .sortByKey(ascending=True).take(50)"
   ]
  },
  {
   "cell_type": "code",
   "execution_count": null,
   "metadata": {
    "collapsed": true
   },
   "outputs": [],
   "source": [
    "# python 3 does not like the auto tuple unpacking\n",
    "\n",
    "# .map(lambda (key,val): (val[2], (val[0], val[1])) )\n",
    "# has to be changed as follows\n",
    "# .map(lambda k_v: (k_v[1][2], (k_v[1][0], k_v[1][1])) )"
   ]
  },
  {
   "cell_type": "code",
   "execution_count": 59,
   "metadata": {},
   "outputs": [
    {
     "data": {
      "image/png": "[encoded data removed]",
      "text/plain": [
       "<matplotlib.figure.Figure at 0x196661a30f0>"
      ]
     },
     "metadata": {},
     "output_type": "display_data"
    }
   ],
   "source": [
    "import numpy as np\n",
    "\n",
    "%matplotlib inline\n",
    "import matplotlib\n",
    "import matplotlib.pyplot as plt\n",
    "\n",
    "data = np.array([ [el[0], el[1]] for el in top_50 ])\n",
    "\n",
    "plt.figure(figsize=(4, 4))\n",
    "plt.scatter( data[:,0],  data[:,1], alpha=0.7)\n",
    "plt.xlabel('Favourites')\n",
    "plt.ylabel('upvotes / (upvotes + downvotes)')\n",
    "plt.show()"
   ]
  },
  {
   "cell_type": "markdown",
   "metadata": {},
   "source": [
    "# Q3  (answer_percentage)   "
   ]
  },
  {
   "cell_type": "code",
   "execution_count": 34,
   "metadata": {
    "collapsed": true
   },
   "outputs": [],
   "source": [
    "import numbers\n",
    "\n",
    "def Get_Ustr_Info(line):\n",
    "    \n",
    "    root = applyParser(line)\n",
    "    \n",
    "    if root is not None:\n",
    "        try:    \n",
    "            UsrId = int(root.get('Id'))\n",
    "            Reputation = int(root.get('Reputation'))\n",
    "            return (UsrId, Reputation)\n",
    "        \n",
    "        except:\n",
    "            return None\n",
    "        \n",
    "    else:\n",
    "        return None\n",
    "    \n",
    "def Get_Posts_Info(line):\n",
    "    \n",
    "    root = applyParser(line)\n",
    "    \n",
    "    if root is not None:\n",
    "        try:\n",
    "            \n",
    "            if 'OwnerUserId' in root.attrib:\n",
    "                UsrId = int(root.attrib['OwnerUserId'])\n",
    "            else:\n",
    "                UsrId = -2\n",
    "            \n",
    "            quest, answ = 0, 0\n",
    "            \n",
    "            var = int(root.get('PostTypeId')) \n",
    "            if var == 1: quest += 1\n",
    "            elif var == 2: answ += 1\n",
    "            \n",
    "            return (UsrId, (quest, answ))\n",
    "        except:\n",
    "            return None\n",
    "    else:\n",
    "        return None\n",
    "    \n",
    "def Filter(el):\n",
    "    try:\n",
    "        key, val = el\n",
    "        if isinstance(key, numbers.Number) and isinstance(val[1], numbers.Number) and isinstance(val[0][0], numbers.Number) and isinstance(val[0][1], numbers.Number):\n",
    "            return True\n",
    "        else:\n",
    "            False\n",
    "    except:\n",
    "        return False"
   ]
  },
  {
   "cell_type": "code",
   "execution_count": 42,
   "metadata": {
    "collapsed": true
   },
   "outputs": [],
   "source": [
    "my_input_Posts = r'spark-stats-data\\allPosts\\part-0*'\n",
    "my_input_Users = r'spark-stats-data\\allUsers\\part-0*'\n",
    "\n",
    "posts = sc.textFile(my_input_Posts).map(Get_Posts_Info).filter(lambda x: x is not None)\n",
    "users = sc.textFile(my_input_Users).map(Get_Ustr_Info).filter(lambda x: x is not None)"
   ]
  },
  {
   "cell_type": "code",
   "execution_count": 52,
   "metadata": {
    "scrolled": true
   },
   "outputs": [
    {
     "data": {
      "text/plain": [
       "[(100976, 0.996694214876033),\n",
       " (92624, 0.9959749552772809),\n",
       " (47334, 0.9803049555273189),\n",
       " (46907, 0.9918793503480279),\n",
       " (32283, 0.9817351598173516),\n",
       " (27599, 1.0),\n",
       " (25406, 0.9909747292418772),\n",
       " (23610, 0.847870182555781),\n",
       " (23102, 0.9875647668393782),\n",
       " (22706, 0.968421052631579),\n",
       " (20315, 0.9794871794871794),\n",
       " (20133, 0.9728813559322034),\n",
       " (19312, 0.9833333333333333),\n",
       " (18866, 0.9543147208121827),\n",
       " (17719, 1.0),\n",
       " (16854, 0.9872773536895675),\n",
       " (16131, 0.956081081081081),\n",
       " (14768, 0.9659442724458205),\n",
       " (14500, 1.0),\n",
       " (14100, 0.9772151898734177),\n",
       " (13557, 0.9970059880239521),\n",
       " (13078, 1.0),\n",
       " (12491, 0.9724137931034482),\n",
       " (12098, 0.9411764705882353),\n",
       " (11989, 0.846441947565543),\n",
       " (11865, 1.0),\n",
       " (11830, 0.8158844765342961),\n",
       " (11795, 0.9823008849557522),\n",
       " (11662, 0.9912280701754386),\n",
       " (11083, 0.9930313588850174),\n",
       " (10750, 0.9700854700854701),\n",
       " (10728, 0.9850427350427351),\n",
       " (10552, 0.8206896551724138),\n",
       " (10394, 0.9757575757575757),\n",
       " (10383, 0.9857142857142858),\n",
       " (10045, 0.9107142857142857),\n",
       " (9619, 0.9948717948717949),\n",
       " (9530, 0.9545454545454546),\n",
       " (9294, 1.0),\n",
       " (9047, 0.9040697674418605),\n",
       " (8794, 0.8571428571428571),\n",
       " (8629, 0.963302752293578),\n",
       " (8221, 0.9924242424242424),\n",
       " (8013, 0.9),\n",
       " (7971, 0.9325842696629213),\n",
       " (7765, 1.0),\n",
       " (7729, 0.9959839357429718),\n",
       " (7725, 0.9518072289156626),\n",
       " (7608, 0.9691358024691358),\n",
       " (7552, 0.9902912621359223),\n",
       " (7116, 0.9119496855345912),\n",
       " (6962, 0.8547008547008547),\n",
       " (6948, 0.8991596638655462),\n",
       " (6888, 0.9877300613496932),\n",
       " (6814, 0.9518072289156626),\n",
       " (6716, 0.9345794392523364),\n",
       " (6694, 0.9757575757575757),\n",
       " (6682, 0.7357512953367875),\n",
       " (6588, 0.8712121212121212),\n",
       " (6367, 1.0),\n",
       " (6352, 0.946843853820598),\n",
       " (6208, 0.6521739130434783),\n",
       " (6149, 0.9889807162534435),\n",
       " (6145, 1.0),\n",
       " (6127, 0.9033613445378151),\n",
       " (6040, 1.0),\n",
       " (5970, 0.9649122807017544),\n",
       " (5967, 0.9680851063829787),\n",
       " (5849, 0.676056338028169),\n",
       " (5775, 0.9867256637168141),\n",
       " (5762, 0.3695652173913043),\n",
       " (5739, 0.6736111111111112),\n",
       " (5661, 0.9166666666666666),\n",
       " (5500, 0.9401709401709402),\n",
       " (5444, 1.0),\n",
       " (5398, 0.9733333333333334),\n",
       " (5315, 0.9428571428571428),\n",
       " (5085, 0.90625),\n",
       " (5042, 0.8983050847457628),\n",
       " (4934, 1.0),\n",
       " (4795, 0.9333333333333333),\n",
       " (4656, 1.0),\n",
       " (4438, 0.9836065573770492),\n",
       " (4238, 0.8333333333333334),\n",
       " (4204, 0.8903225806451613),\n",
       " (4192, 0.8588235294117647),\n",
       " (4149, 0.976878612716763),\n",
       " (4147, 0.9652777777777778),\n",
       " (4127, 1.0),\n",
       " (4092, 0.9487179487179487),\n",
       " (4080, 0.0034482758620689655),\n",
       " (4065, 0.8513513513513513),\n",
       " (3971, 0.8974358974358975),\n",
       " (3958, 0.9852941176470589),\n",
       " (3957, 1.0),\n",
       " (3821, 0.863013698630137),\n",
       " (3805, 0.9722222222222222),\n",
       " (3747, 0.941747572815534),\n",
       " (3732, 1.0)]"
      ]
     },
     "execution_count": 52,
     "metadata": {},
     "output_type": "execute_result"
    }
   ],
   "source": [
    "table = posts.join(users).filter(Filter)\\\n",
    "        .map(lambda k_v: (k_v[0], (k_v[1][1], k_v[1][0][0], k_v[1][0][1])) )\\\n",
    "        .reduceByKey(lambda x,y: (x[0], x[1]+y[1], x[2]+y[2]) )\\\n",
    "        .filter(lambda k_v: k_v[1][1]+k_v[1][2]!=0 )\\\n",
    "        .map(lambda k_v: (k_v[1][0], k_v[1][2]/float(k_v[1][1]+k_v[1][2])) )\\\n",
    "        .sortByKey(ascending=False)\\\n",
    "        .take(99)\n",
    "table"
   ]
  },
  {
   "cell_type": "code",
   "execution_count": 57,
   "metadata": {
    "scrolled": true
   },
   "outputs": [
    {
     "data": {
      "image/png": "[encoded data removed]",
      "text/plain": [
       "<matplotlib.figure.Figure at 0x196660f5828>"
      ]
     },
     "metadata": {},
     "output_type": "display_data"
    }
   ],
   "source": [
    "data = np.array([ [el[0], el[1]] for el in table ])\n",
    "\n",
    "plt.figure(figsize=(4, 4))\n",
    "plt.scatter( data[:,0],  data[:,1], alpha=0.7)\n",
    "plt.xlabel('Reputation')\n",
    "plt.ylabel('answers / (questions + answers)')\n",
    "plt.show()"
   ]
  },
  {
   "cell_type": "markdown",
   "metadata": {},
   "source": [
    "Average answer percentage"
   ]
  },
  {
   "cell_type": "code",
   "execution_count": 63,
   "metadata": {},
   "outputs": [
    {
     "name": "stdout",
     "output_type": "stream",
     "text": [
      "tot. Q = 52046,\t\t tot. A = 55298, \t avg answer percentage = 0.5151475629751081\n"
     ]
    }
   ],
   "source": [
    "avg_ = posts.map(lambda k_v: (1, (k_v[1][0], k_v[1][1])) )\\\n",
    "        .reduceByKey(lambda x,y: (x[0]+y[0], x[1]+y[1]) )\\\n",
    "        .map(lambda k_v: (k_v[1][0], k_v[1][1], k_v[1][1]/float(k_v[1][0]+k_v[1][1])) )\\\n",
    "        .collect()\n",
    "        \n",
    "print('tot. Q = {0},\\t\\t tot. A = {1}, \\t avg answer percentage = {2}'.format(avg_[0][0], avg_[0][1], avg_[0][2])  )"
   ]
  },
  {
   "cell_type": "markdown",
   "metadata": {},
   "source": [
    "# Q4 (post_counts)"
   ]
  },
  {
   "cell_type": "code",
   "execution_count": 80,
   "metadata": {},
   "outputs": [],
   "source": [
    "def parse_Posts_trf_3(line):    \n",
    "    \n",
    "    root = applyParser(line)\n",
    "    \n",
    "    if root is not None:\n",
    "        try:\n",
    "        \n",
    "            if 'OwnerUserId' in root.attrib:\n",
    "                OwnerUserId = int(root.attrib['OwnerUserId'])\n",
    "            else:\n",
    "                OwnerUserId = -2\n",
    "                \n",
    "            return (OwnerUserId, 1)\n",
    "        \n",
    "        except:\n",
    "            return None\n",
    "        \n",
    "    else:\n",
    "        return None\n",
    "    \n",
    "\n",
    "    \n",
    "def parse_User_Record_trf_1(line):\n",
    "    \n",
    "    root = applyParser(line)\n",
    "    \n",
    "    if root is not None:\n",
    "        try:\n",
    "            Id, Reputation = int(root.attrib['Id']), int(root.attrib['Reputation'])\n",
    "            return (Id, Reputation)\n",
    "            \n",
    "        except:\n",
    "            return None\n",
    "            \n",
    "    else:\n",
    "        return None"
   ]
  },
  {
   "cell_type": "code",
   "execution_count": 88,
   "metadata": {},
   "outputs": [],
   "source": [
    "my_input_dir = r'spark-stats-data\\allPosts\\part-0*'\n",
    "\n",
    "Own_Id_vs_QA = sc.textFile(my_input_dir)\\\n",
    "    .map(parse_Posts_trf_3)\\\n",
    "    .filter(lambda x: x is not None)\\\n",
    "    .reduceByKey(lambda va, vb: va+vb)\n",
    "    \n",
    "my_input_dir = r'spark-stats-data\\allUsers\\part-0*'\n",
    "\n",
    "Usr_Id_vs_Rep = sc.textFile(my_input_dir)\\\n",
    "    .map(parse_User_Record_trf_1)\\\n",
    "    .filter(lambda x: x is not None)\n",
    "\n",
    "# qa____RepSum_Counts = (qa, (rep_sum, counts))\n",
    "# UsrId___rep_qa = (UsrId, (rep, qa))\n",
    "# QA____AvgRep = (QA, AvgRep)\n",
    "\n",
    "Usr_Id_vs_Rep_vs_QA = Usr_Id_vs_Rep.join(Own_Id_vs_QA)\\\n",
    "    .map(lambda UsrId___rep_qa: (UsrId___rep_qa[1][1], (UsrId___rep_qa[1][0],1)) )\\\n",
    "    .reduceByKey(lambda va, vb: (va[0]+vb[0], va[1]+vb[1]))\\\n",
    "    .map(lambda qa____RepSum_Counts:  (qa____RepSum_Counts[0], float(qa____RepSum_Counts[1][0]/qa____RepSum_Counts[1][1])) )\\\n",
    "    .sortBy(lambda QA____AvgRep: QA____AvgRep[0], ascending=False)\\\n",
    "    .collect()"
   ]
  },
  {
   "cell_type": "code",
   "execution_count": 91,
   "metadata": {},
   "outputs": [
    {
     "data": {
      "image/png": "[encoded data removed]",
      "text/plain": [
       "<matplotlib.figure.Figure at 0x1966683df60>"
      ]
     },
     "metadata": {},
     "output_type": "display_data"
    }
   ],
   "source": [
    "data = np.array([ [el[0], el[1]] for el in Usr_Id_vs_Rep_vs_QA[:100] ])\n",
    "\n",
    "plt.figure(figsize=(4, 4))\n",
    "plt.scatter( data[:,0],  data[:,1], alpha=0.4)\n",
    "plt.xlabel('Tot number of questions and answes')\n",
    "plt.ylabel('Average reputation')\n",
    "plt.show()"
   ]
  },
  {
   "cell_type": "code",
   "execution_count": null,
   "metadata": {
    "collapsed": true
   },
   "outputs": [],
   "source": []
  },
  {
   "cell_type": "code",
   "execution_count": null,
   "metadata": {
    "collapsed": true
   },
   "outputs": [],
   "source": []
  },
  {
   "cell_type": "code",
   "execution_count": null,
   "metadata": {
    "collapsed": true
   },
   "outputs": [],
   "source": []
  },
  {
   "cell_type": "code",
   "execution_count": null,
   "metadata": {
    "collapsed": true
   },
   "outputs": [],
   "source": []
  },
  {
   "cell_type": "code",
   "execution_count": null,
   "metadata": {
    "collapsed": true
   },
   "outputs": [],
   "source": []
  },
  {
   "cell_type": "code",
   "execution_count": null,
   "metadata": {
    "collapsed": true
   },
   "outputs": [],
   "source": []
  },
  {
   "cell_type": "code",
   "execution_count": null,
   "metadata": {
    "collapsed": true
   },
   "outputs": [],
   "source": []
  },
  {
   "cell_type": "code",
   "execution_count": null,
   "metadata": {
    "collapsed": true
   },
   "outputs": [],
   "source": []
  },
  {
   "cell_type": "code",
   "execution_count": null,
   "metadata": {
    "collapsed": true
   },
   "outputs": [],
   "source": []
  },
  {
   "cell_type": "code",
   "execution_count": null,
   "metadata": {
    "collapsed": true
   },
   "outputs": [],
   "source": []
  },
  {
   "cell_type": "code",
   "execution_count": null,
   "metadata": {
    "collapsed": true
   },
   "outputs": [],
   "source": []
  },
  {
   "cell_type": "code",
   "execution_count": null,
   "metadata": {
    "collapsed": true
   },
   "outputs": [],
   "source": []
  },
  {
   "cell_type": "code",
   "execution_count": null,
   "metadata": {
    "collapsed": true
   },
   "outputs": [],
   "source": []
  },
  {
   "cell_type": "code",
   "execution_count": null,
   "metadata": {
    "collapsed": true
   },
   "outputs": [],
   "source": []
  }
 ],
 "metadata": {
  "kernelspec": {
   "display_name": "Python 3",
   "language": "python",
   "name": "python3"
  },
  "language_info": {
   "codemirror_mode": {
    "name": "ipython",
    "version": 3
   },
   "file_extension": ".py",
   "mimetype": "text/x-python",
   "name": "python",
   "nbconvert_exporter": "python",
   "pygments_lexer": "ipython3",
   "version": "3.6.2"
  }
 },
 "nbformat": 4,
 "nbformat_minor": 2
}
